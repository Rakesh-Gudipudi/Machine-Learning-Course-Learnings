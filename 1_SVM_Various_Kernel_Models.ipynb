{
 "cells": [
  {
   "cell_type": "code",
   "execution_count": 1,
   "metadata": {},
   "outputs": [
    {
     "data": {
      "text/html": [
       "<div>\n",
       "<style scoped>\n",
       "    .dataframe tbody tr th:only-of-type {\n",
       "        vertical-align: middle;\n",
       "    }\n",
       "\n",
       "    .dataframe tbody tr th {\n",
       "        vertical-align: top;\n",
       "    }\n",
       "\n",
       "    .dataframe thead th {\n",
       "        text-align: right;\n",
       "    }\n",
       "</style>\n",
       "<table border=\"1\" class=\"dataframe\">\n",
       "  <thead>\n",
       "    <tr style=\"text-align: right;\">\n",
       "      <th></th>\n",
       "      <th>X1</th>\n",
       "      <th>X2</th>\n",
       "      <th>Y</th>\n",
       "    </tr>\n",
       "  </thead>\n",
       "  <tbody>\n",
       "    <tr>\n",
       "      <th>0</th>\n",
       "      <td>-0.243345</td>\n",
       "      <td>-0.945800</td>\n",
       "      <td>0</td>\n",
       "    </tr>\n",
       "    <tr>\n",
       "      <th>1</th>\n",
       "      <td>-0.728999</td>\n",
       "      <td>0.001573</td>\n",
       "      <td>0</td>\n",
       "    </tr>\n",
       "    <tr>\n",
       "      <th>2</th>\n",
       "      <td>0.729673</td>\n",
       "      <td>-1.231441</td>\n",
       "      <td>1</td>\n",
       "    </tr>\n",
       "    <tr>\n",
       "      <th>3</th>\n",
       "      <td>0.853143</td>\n",
       "      <td>0.667585</td>\n",
       "      <td>0</td>\n",
       "    </tr>\n",
       "    <tr>\n",
       "      <th>4</th>\n",
       "      <td>1.735371</td>\n",
       "      <td>-1.572946</td>\n",
       "      <td>1</td>\n",
       "    </tr>\n",
       "    <tr>\n",
       "      <th>...</th>\n",
       "      <td>...</td>\n",
       "      <td>...</td>\n",
       "      <td>...</td>\n",
       "    </tr>\n",
       "    <tr>\n",
       "      <th>95</th>\n",
       "      <td>1.520737</td>\n",
       "      <td>1.005900</td>\n",
       "      <td>1</td>\n",
       "    </tr>\n",
       "    <tr>\n",
       "      <th>96</th>\n",
       "      <td>1.353256</td>\n",
       "      <td>-0.500554</td>\n",
       "      <td>1</td>\n",
       "    </tr>\n",
       "    <tr>\n",
       "      <th>97</th>\n",
       "      <td>1.802953</td>\n",
       "      <td>0.310906</td>\n",
       "      <td>1</td>\n",
       "    </tr>\n",
       "    <tr>\n",
       "      <th>98</th>\n",
       "      <td>-0.385463</td>\n",
       "      <td>-0.657596</td>\n",
       "      <td>0</td>\n",
       "    </tr>\n",
       "    <tr>\n",
       "      <th>99</th>\n",
       "      <td>1.273381</td>\n",
       "      <td>-0.225398</td>\n",
       "      <td>1</td>\n",
       "    </tr>\n",
       "  </tbody>\n",
       "</table>\n",
       "<p>100 rows × 3 columns</p>\n",
       "</div>"
      ],
      "text/plain": [
       "          X1        X2  Y\n",
       "0  -0.243345 -0.945800  0\n",
       "1  -0.728999  0.001573  0\n",
       "2   0.729673 -1.231441  1\n",
       "3   0.853143  0.667585  0\n",
       "4   1.735371 -1.572946  1\n",
       "..       ...       ... ..\n",
       "95  1.520737  1.005900  1\n",
       "96  1.353256 -0.500554  1\n",
       "97  1.802953  0.310906  1\n",
       "98 -0.385463 -0.657596  0\n",
       "99  1.273381 -0.225398  1\n",
       "\n",
       "[100 rows x 3 columns]"
      ]
     },
     "execution_count": 1,
     "metadata": {},
     "output_type": "execute_result"
    }
   ],
   "source": [
    "import pandas as pd\n",
    "from matplotlib import pyplot as plt\n",
    "import seaborn as sns\n",
    "from sklearn.datasets import make_classification, make_blobs, make_gaussian_quantiles\n",
    "from sklearn.model_selection import train_test_split\n",
    "from sklearn import svm, metrics\n",
    "# Construct dataset\n",
    "X, Y = make_gaussian_quantiles(n_samples=100, n_features=2, n_classes = 2)\n",
    "df = pd.DataFrame(dict(X1=X[:,0], X2=X[:,1], Y=Y))\n",
    "df"
   ]
  },
  {
   "cell_type": "code",
   "execution_count": 2,
   "metadata": {},
   "outputs": [
    {
     "name": "stdout",
     "output_type": "stream",
     "text": [
      "1    50\n",
      "0    50\n",
      "Name: Y, dtype: int64\n"
     ]
    },
    {
     "data": {
      "image/png": "[encoded data removed]",
      "text/plain": [
       "<Figure size 432x288 with 1 Axes>"
      ]
     },
     "metadata": {
      "needs_background": "light"
     },
     "output_type": "display_data"
    }
   ],
   "source": [
    "print(df['Y'].value_counts())\n",
    "a = df['Y'].value_counts().plot(kind='bar', title='Unbalanced Class')\n",
    "plt.show(a)"
   ]
  },
  {
   "cell_type": "code",
   "execution_count": 3,
   "metadata": {},
   "outputs": [
    {
     "data": {
      "image/png": "[encoded data removed]",
      "text/plain": [
       "<Figure size 432x288 with 1 Axes>"
      ]
     },
     "metadata": {
      "needs_background": "light"
     },
     "output_type": "display_data"
    }
   ],
   "source": [
    "from matplotlib import pyplot\n",
    "colors = {0:'red', 1:'blue'}\n",
    "fig, ax = pyplot.subplots()\n",
    "grouped = df.groupby('Y')\n",
    "for key, group in grouped:\n",
    "    group.plot(ax=ax, kind='scatter', x='X1', y='X2', label=key, color=colors[key])\n",
    "pyplot.show()"
   ]
  },
  {
   "cell_type": "code",
   "execution_count": 4,
   "metadata": {},
   "outputs": [],
   "source": [
    "X_train, X_test, Y_train, Y_test = train_test_split(X, Y, test_size=0.3, random_state = 42)"
   ]
  },
  {
   "cell_type": "code",
   "execution_count": 5,
   "metadata": {},
   "outputs": [
    {
     "name": "stdout",
     "output_type": "stream",
     "text": [
      "{'kernel': 'rbf'}\n"
     ]
    }
   ],
   "source": [
    "clf = svm.SVC()\n",
    "kernel = ['linear', 'poly', 'rbf']\n",
    "from sklearn.model_selection import GridSearchCV\n",
    "params_grid = {'kernel' : ['linear', 'poly', 'rbf']}\n",
    "s = GridSearchCV(clf, params_grid)\n",
    "s.fit(X_train, Y_train)\n",
    "print(s.best_params_)"
   ]
  },
  {
   "cell_type": "code",
   "execution_count": 6,
   "metadata": {
    "scrolled": true
   },
   "outputs": [
    {
     "name": "stdout",
     "output_type": "stream",
     "text": [
      "SVC(C=1.0, break_ties=False, cache_size=200, class_weight=None, coef0=0.0,\n",
      "    decision_function_shape='ovr', degree=3, gamma='scale', kernel='linear',\n",
      "    max_iter=-1, probability=False, random_state=None, shrinking=True,\n",
      "    tol=0.001, verbose=False)\n",
      "Testing Misclassified samples : 7\n",
      "Testing Accuracy: 0.7666666666666667\n",
      "Training Misclassified samples : 23\n",
      "Training Accuracy: 0.6714285714285714\n",
      "\n"
     ]
    },
    {
     "data": {
      "image/png": "[encoded data removed]",
      "text/plain": [
       "<Figure size 432x288 with 2 Axes>"
      ]
     },
     "metadata": {
      "needs_background": "light"
     },
     "output_type": "display_data"
    },
    {
     "data": {
      "image/png": "[encoded data removed]",
      "text/plain": [
       "<Figure size 432x288 with 2 Axes>"
      ]
     },
     "metadata": {
      "needs_background": "light"
     },
     "output_type": "display_data"
    },
    {
     "name": "stdout",
     "output_type": "stream",
     "text": [
      "SVC(C=1.0, break_ties=False, cache_size=200, class_weight=None, coef0=0.0,\n",
      "    decision_function_shape='ovr', degree=3, gamma='scale', kernel='poly',\n",
      "    max_iter=-1, probability=False, random_state=None, shrinking=True,\n",
      "    tol=0.001, verbose=False)\n",
      "Testing Misclassified samples : 5\n",
      "Testing Accuracy: 0.8333333333333334\n",
      "Training Misclassified samples : 19\n",
      "Training Accuracy: 0.7285714285714285\n",
      "\n"
     ]
    },
    {
     "data": {
      "image/png": "[encoded data removed]",
      "text/plain": [
       "<Figure size 432x288 with 2 Axes>"
      ]
     },
     "metadata": {
      "needs_background": "light"
     },
     "output_type": "display_data"
    },
    {
     "data": {
      "image/png": "[encoded data removed]",
      "text/plain": [
       "<Figure size 432x288 with 2 Axes>"
      ]
     },
     "metadata": {
      "needs_background": "light"
     },
     "output_type": "display_data"
    },
    {
     "name": "stdout",
     "output_type": "stream",
     "text": [
      "SVC(C=1.0, break_ties=False, cache_size=200, class_weight=None, coef0=0.0,\n",
      "    decision_function_shape='ovr', degree=3, gamma='scale', kernel='rbf',\n",
      "    max_iter=-1, probability=False, random_state=None, shrinking=True,\n",
      "    tol=0.001, verbose=False)\n",
      "Testing Misclassified samples : 1\n",
      "Testing Accuracy: 0.9666666666666667\n",
      "Training Misclassified samples : 2\n",
      "Training Accuracy: 0.9714285714285714\n",
      "\n"
     ]
    },
    {
     "data": {
      "image/png": "[encoded data removed]",
      "text/plain": [
       "<Figure size 432x288 with 2 Axes>"
      ]
     },
     "metadata": {
      "needs_background": "light"
     },
     "output_type": "display_data"
    },
    {
     "data": {
      "image/png": "[encoded data removed]",
      "text/plain": [
       "<Figure size 432x288 with 2 Axes>"
      ]
     },
     "metadata": {
      "needs_background": "light"
     },
     "output_type": "display_data"
    },
    {
     "name": "stdout",
     "output_type": "stream",
     "text": [
      "[0.6714285714285714, 0.7285714285714285, 0.9714285714285714]\n",
      "[0.7666666666666667, 0.8333333333333334, 0.9666666666666667]\n"
     ]
    }
   ],
   "source": [
    "train_errors = []\n",
    "test_errors = []\n",
    "for k in kernel:\n",
    "    clf.set_params(kernel=k)\n",
    "    clf.fit(X_train, Y_train)\n",
    "    print(clf)\n",
    "    Y_test_pred = clf.predict(X_test)\n",
    "    Y_train_pred = clf.predict(X_train)\n",
    "    count_misclassified = (Y_test != Y_test_pred).sum()\n",
    "    print('Testing Misclassified samples : {}'.format(count_misclassified))\n",
    "    print('Testing Accuracy:', metrics.accuracy_score(Y_test, Y_test_pred))\n",
    "    count_misclassified = (Y_train != Y_train_pred).sum()\n",
    "    print('Training Misclassified samples : {}'.format(count_misclassified))\n",
    "    print('Training Accuracy:', metrics.accuracy_score(Y_train, Y_train_pred))\n",
    "    print()\n",
    "    \n",
    "    #Confusion Matrix\n",
    "    fig = plt.figure()\n",
    "    ax = fig.add_subplot(111)\n",
    "    plt.title(\"Confusion Matrix - Training Data\")\n",
    "    cm = metrics.confusion_matrix(Y_train, Y_train_pred)\n",
    "    sns.heatmap(cm, annot=True, fmt='d')\n",
    "    plt.show(ax)\n",
    "    fig = plt.figure()\n",
    "    ax = fig.add_subplot(111)\n",
    "    plt.title(\"Confusion Matrix - Testing Data\")\n",
    "    cm = metrics.confusion_matrix(Y_test, Y_test_pred)\n",
    "    sns.heatmap(cm, annot=True, fmt='d')\n",
    "    plt.show(ax)\n",
    "    \n",
    "    train_errors.append(clf.score(X_train, Y_train))\n",
    "    test_errors.append(clf.score(X_test, Y_test))\n",
    "    \n",
    "print(train_errors)\n",
    "print(test_errors)"
   ]
  },
  {
   "cell_type": "code",
   "execution_count": 7,
   "metadata": {},
   "outputs": [
    {
     "data": {
      "image/png": "[encoded data removed]",
      "text/plain": [
       "<Figure size 432x288 with 1 Axes>"
      ]
     },
     "metadata": {
      "needs_background": "light"
     },
     "output_type": "display_data"
    }
   ],
   "source": [
    "import matplotlib\n",
    "import matplotlib.pyplot as plt\n",
    "import numpy as np\n",
    "x = np.arange(len(kernel))  # the label locations\n",
    "width = 0.35  # the width of the bars\n",
    "fig, ax = plt.subplots()\n",
    "rects1 = ax.bar(x - width/2, test_errors, width, label='Train')\n",
    "rects2 = ax.bar(x + width/2, train_errors, width, label='Test')\n",
    "ax.set_ylabel('PERCENTAGE')\n",
    "ax.set_xlabel('Kernel')\n",
    "ax.set_title('Trainig Accuracy - Testing Accuracy')\n",
    "ax.set_xticks(x)\n",
    "ax.set_xticklabels(kernel)\n",
    "ax.legend(loc = 'best', bbox_to_anchor=(1, 1))\n",
    "plt.show()"
   ]
  },
  {
   "cell_type": "code",
   "execution_count": null,
   "metadata": {},
   "outputs": [],
   "source": []
  }
 ],
 "metadata": {
  "kernelspec": {
   "display_name": "Python 3",
   "language": "python",
   "name": "python3"
  },
  "language_info": {
   "codemirror_mode": {
    "name": "ipython",
    "version": 3
   },
   "file_extension": ".py",
   "mimetype": "text/x-python",
   "name": "python",
   "nbconvert_exporter": "python",
   "pygments_lexer": "ipython3",
   "version": "3.7.6"
  }
 },
 "nbformat": 4,
 "nbformat_minor": 4
}
